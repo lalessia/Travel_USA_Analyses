{
 "cells": [
  {
   "cell_type": "code",
   "execution_count": 1,
   "id": "6a39d186-cc6a-4777-928e-b3017958b123",
   "metadata": {
    "tags": []
   },
   "outputs": [],
   "source": [
    "import os\n",
    "from pathlib import Path\n",
    "import pandas as pd"
   ]
  },
  {
   "cell_type": "code",
   "execution_count": 2,
   "id": "1e3d7871-5bbd-4ea0-9adb-6b9c57a3944e",
   "metadata": {
    "tags": []
   },
   "outputs": [],
   "source": [
    "#insert DB schema\n",
    "schema = ''"
   ]
  },
  {
   "cell_type": "code",
   "execution_count": 3,
   "id": "51955afe-e590-4575-9ba9-0960b3ab9a2b",
   "metadata": {},
   "outputs": [],
   "source": [
    "schema = 'travel_danger'"
   ]
  },
  {
   "cell_type": "code",
   "execution_count": 4,
   "id": "cb09e91c-bb51-4250-8d64-61e15313a98f",
   "metadata": {},
   "outputs": [],
   "source": [
    "path = ''"
   ]
  },
  {
   "cell_type": "code",
   "execution_count": 5,
   "id": "77ea1f5e-6be9-4108-9342-0286f39c3cd8",
   "metadata": {},
   "outputs": [],
   "source": [
    "path = os.getcwd()\n",
    "parent_path = os.path.abspath(os.path.join(path, os.pardir))\n",
    "dataset_path = os.path.join(parent_path, 'dataset')"
   ]
  },
  {
   "cell_type": "code",
   "execution_count": 6,
   "id": "a58bc3b4-024d-4afd-b868-fa5a33128485",
   "metadata": {
    "tags": []
   },
   "outputs": [],
   "source": [
    "dir_list = os.listdir(dataset_path)"
   ]
  },
  {
   "cell_type": "code",
   "execution_count": 7,
   "id": "19ecaff5-ae97-4202-99a4-1123a8483cc3",
   "metadata": {
    "tags": []
   },
   "outputs": [],
   "source": [
    "csv_list = []\n",
    "\n",
    "for filename in dir_list:\n",
    "    if filename.endswith('.csv'):\n",
    "        csv_list.append(filename)"
   ]
  },
  {
   "cell_type": "code",
   "execution_count": 8,
   "id": "76df087d-9b33-4dc2-9384-f52cc32b4764",
   "metadata": {
    "tags": []
   },
   "outputs": [
    {
     "data": {
      "text/plain": [
       "['SDwarnings_10_09to06_16.csv',\n",
       " 'BTSCountryCodes.csv',\n",
       " 'SDamerican_deaths_abroad_10_09_to_06_16.csv',\n",
       " 'continents2.csv',\n",
       " 'BTSOriginUS_10_09_to_06_16.csv']"
      ]
     },
     "execution_count": 8,
     "metadata": {},
     "output_type": "execute_result"
    }
   ],
   "source": [
    "csv_list    "
   ]
  },
  {
   "cell_type": "code",
   "execution_count": 9,
   "id": "c830cbdc-4f30-43fe-a9a1-177d2d635575",
   "metadata": {
    "tags": []
   },
   "outputs": [],
   "source": [
    "type_converter_dict = {'int64': 'integer',\n",
    "        'float64': 'real',\n",
    "        'object': 'character varying', \n",
    "        'bool': 'boolean',\n",
    "        'id': 'serial'}"
   ]
  },
  {
   "cell_type": "code",
   "execution_count": 10,
   "id": "e0b35671-3dfe-4a2d-a852-3bb8e0391a13",
   "metadata": {
    "tags": []
   },
   "outputs": [],
   "source": [
    "createSQL = \"\""
   ]
  },
  {
   "cell_type": "code",
   "execution_count": 13,
   "id": "b939220d-a0bd-4ac7-a0c0-3a86cf4564da",
   "metadata": {
    "tags": []
   },
   "outputs": [],
   "source": [
    "for csv in csv_list:\n",
    "    #print('CSV: ' + csv)\n",
    "    file_path = dataset_path + '/' + csv\n",
    "    df = pd.read_csv(file_path)\n",
    "\n",
    "    different_type = []\n",
    "    createSQL = \"CREATE TABLE \"\n",
    "    createSQL = createSQL + (schema + \".\" + csv.split('.')[0]).replace(\" \", \"\")\n",
    "    createSQL = createSQL + \"\\n(\\n\"\n",
    "\n",
    "    for column in df.columns:\n",
    "        column_name = ''.join(letter for letter in column if letter.isalnum())\n",
    "        if column_name == \"Unnamed0\":\n",
    "            column_name = \"id\"\n",
    "        createSQL = createSQL + column_name + \" \"\n",
    "        #DEBUG print('column_type:', df[column].dtypes)\n",
    "        #DEBUG print('type sql column: ', type_converter_dict[str(df[column].dtypes)])\n",
    "        createSQL = createSQL + type_converter_dict[str(df[column].dtypes)] + \",\\n\"\n",
    "    \n",
    "    createSQL = createSQL[:-2]\n",
    "\n",
    "\n",
    "    createSQL = createSQL + \"\\n);\\n\\n\"\n",
    "    f = open(\"create_table.sql\", \"a\")\n",
    "    f.write(createSQL)\n",
    "    f.write('')\n",
    "    f.close()"
   ]
  },
  {
   "cell_type": "code",
   "execution_count": null,
   "id": "4a58e59d-8cc6-4d3c-a83d-c1dd9017af2e",
   "metadata": {},
   "outputs": [],
   "source": []
  }
 ],
 "metadata": {
  "kernelspec": {
   "display_name": "Python 3 (ipykernel)",
   "language": "python",
   "name": "python3"
  },
  "language_info": {
   "codemirror_mode": {
    "name": "ipython",
    "version": 3
   },
   "file_extension": ".py",
   "mimetype": "text/x-python",
   "name": "python",
   "nbconvert_exporter": "python",
   "pygments_lexer": "ipython3",
   "version": "3.9.7"
  }
 },
 "nbformat": 4,
 "nbformat_minor": 5
}
